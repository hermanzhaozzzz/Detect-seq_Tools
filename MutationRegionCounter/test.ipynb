{
 "cells": [
  {
   "cell_type": "code",
   "execution_count": 14,
   "metadata": {},
   "outputs": [],
   "source": [
    "import pysam\n",
    "import pandas as pd\n",
    "from DetectSeqLib_V2.CheckAndLoadFiles import load_reference_fasta_as_dict\n",
    "from DetectSeqLib_V2.RegionStatsTest import get_align_mismatch_pairs\n",
    "from DetectSeqLib_V2.RegionStatsTest import get_No_MD_align_mismatch_pairs"
   ]
  },
  {
   "cell_type": "code",
   "execution_count": 15,
   "outputs": [
    {
     "data": {
      "text/plain": "[['chr1', '1000018', 'G', 'A'],\n ['chr1', '10000789', 'G', 'A'],\n ['chr1', '10002030', 'G', 'A'],\n ['chr1', '100056713', 'G', 'A'],\n ['chr1', '100056713', 'G', 'A'],\n ['chr1', '100089610', 'C', 'T'],\n ['chr1', '100089610', 'C', 'T'],\n ['chr1', '100093453', 'G', 'A'],\n ['chr1', '100093453', 'G', 'A'],\n ['chr1', '100100720', 'C', 'T']]"
     },
     "execution_count": 15,
     "metadata": {},
     "output_type": "execute_result"
    }
   ],
   "source": [
    "vcf = \"/Users/mac/mac_data/3.projects/25.2020-12_02_CBE_DetectSeq_bams/293T_BE_INPUT_VCF/293T-Mock-Input-covaris_bwa_hg38_sort_rmdup.recall.merge.Genotype.filter.rmdup_signal.vcf\"\n",
    "mut_bed = \"/Users/mac/mac_data/3.projects/25.2020-12_02_CBE_DetectSeq_bams/293T_BE_INPUT_VCF/293T-EMX1-Mock-Input.site_index.rmdup.bed\"\n",
    "\n",
    "# ref_fasta_path = \"/home/zhaohuanan/zhaohn_HD/2.database/fasta_hg38/hg38_only_chromosome.fa\"\n",
    "\n",
    "ref_fasta_path = \"/Users/mac/Nutstore/Coding/github/snakepipes_bioinformatics_hermanzhaozzzz/genome_fa/genome_ucsc_hg38.fa\"\n",
    "\n",
    "\n",
    "with open(vcf, 'r') as vcf:\n",
    "    ls_vcf = [i.strip().split('\\t')[:2] + i.strip().split('\\t')[3:5] for i in vcf.readlines() if i[0]!='#']\n",
    "ls_filterd_vcf = [i for i in ls_vcf if (i[2]=='C' and i[3]=='T') or (i[2]=='G' and i[3]=='A')]\n",
    "\n",
    "with open(mut_bed,'r') as bed:\n",
    "    ls_bed = [i.strip().split('\\t')[3].split('_') for i in bed.readlines()]\n",
    "    ls_bed = [i[:2] + [j for j in i[2]] for i in ls_bed]\n",
    "\n",
    "ls_endogenous_mut = ls_filterd_vcf + ls_bed\n",
    "ls_endogenous_mut.sort()\n",
    "ls_endogenous_mut[:10]"
   ],
   "metadata": {
    "collapsed": false,
    "pycharm": {
     "name": "#%%\n"
    }
   }
  },
  {
   "cell_type": "code",
   "execution_count": 16,
   "outputs": [],
   "source": [
    "dt_endogenous_mut = {}\n",
    "for record in ls_endogenous_mut:\n",
    "    dt_endogenous_mut[\"_\".join(record[:3])+record[3]] = record\n",
    "# dt_endogenous_mut"
   ],
   "metadata": {
    "collapsed": false,
    "pycharm": {
     "name": "#%%\n"
    }
   }
  },
  {
   "cell_type": "code",
   "execution_count": 17,
   "outputs": [],
   "source": [
    "# 1\n",
    "# path_bam = \"./cbe_bam/293T-bat_EMX1-All-PD_rep1_hg38.MAPQ20.bam\"\n",
    "# bed_file = './bed/GSE151265_293T-EMX1-Detect-seq_pRBS.bed'\n",
    "# 2\n",
    "# path_bam = \"./cbe_bam/293T-bat_EMX1-All-PD_rep2_hg38.MAPQ20.bam\"\n",
    "# bed_file = './bed/GSE151265_293T-EMX1-Detect-seq_pRBS.bed'\n",
    "# 3\n",
    "# path_bam = \"./cbe_bam/293T-bat_HN-HEK4-All-PD_rep1_hg38.MAPQ20.bam\"\n",
    "# bed_file = './bed/GSE151265_293T-HEK4-Detect-seq_pRBS.bed'\n",
    "# 4\n",
    "# path_bam = \"./cbe_bam/293T-bat_HN-HEK4-All-PD_rep2_hg38.MAPQ20.bam\"\n",
    "# bed_file = './bed/GSE151265_293T-HEK4-Detect-seq_pRBS.bed'\n",
    "# 5\n",
    "# path_bam = \"./cbe_bam/MCF7-bat_HR-HEK4-All-PD_rep1_hg38.MAPQ20.bam\"\n",
    "# bed_file = './bed/GSE151265_MCF7-HEK4-Detect-seq_pRBS.bed'\n",
    "# 6\n",
    "# path_bam = \"./cbe_bam/MCF7-bat_HR-HEK4-All-PD_rep2_hg38.MAPQ20.bam\"\n",
    "# bed_file = './bed/GSE151265_MCF7-HEK4-Detect-seq_pRBS.bed'\n",
    "# 7\n",
    "# path_bam = \"./cbe_bam/MCF7-bat_HR-RNF2-All-PD_rep1_hg38.MAPQ20.bam\"\n",
    "# bed_file = './bed/GSE151265_MCF7-RNF2-Detect-seq_on-target.bed'\n",
    "# 8\n",
    "# path_bam = \"./cbe_bam/MCF7-bat_HR-RNF2-All-PD_rep2_hg38.MAPQ20.bam\"\n",
    "# bed_file = './bed/GSE151265_MCF7-RNF2-Detect-seq_on-target.bed'\n",
    "\n",
    "\n",
    "# test\n",
    "path_bam = \"/Users/mac/Nutstore/Coding/github/DetectSeq_mutation-region-count/bam/293T-bat_VEGFA-All-PD_rep1_hg38.MAPQ20.bam\"\n",
    "bed_file = \"/Users/mac/Nutstore/Coding/github/DetectSeq_mutation-region-count/bed/GSE151265_293T-VEGFA-Detect-seq_pRBS.bed\""
   ],
   "metadata": {
    "collapsed": false,
    "pycharm": {
     "name": "#%%\n"
    }
   }
  },
  {
   "cell_type": "code",
   "execution_count": 18,
   "metadata": {},
   "outputs": [
    {
     "name": "stderr",
     "output_type": "stream",
     "text": [
      "INFO  @ 2020-12-03 21:13:28: Starting to load the reference genome... \n",
      "DEBUG @ 2020-12-03 21:13:30: Loading genome...\tchr1 \n",
      "DEBUG @ 2020-12-03 21:13:31: Loading genome...\tchr2 \n",
      "DEBUG @ 2020-12-03 21:13:32: Loading genome...\tchr3 \n",
      "DEBUG @ 2020-12-03 21:13:34: Loading genome...\tchr4 \n",
      "DEBUG @ 2020-12-03 21:13:35: Loading genome...\tchr5 \n",
      "DEBUG @ 2020-12-03 21:13:36: Loading genome...\tchr6 \n",
      "DEBUG @ 2020-12-03 21:13:37: Loading genome...\tchr7 \n",
      "DEBUG @ 2020-12-03 21:13:38: Loading genome...\tchr8 \n",
      "DEBUG @ 2020-12-03 21:13:39: Loading genome...\tchr9 \n",
      "DEBUG @ 2020-12-03 21:13:39: Loading genome...\tchr10 \n",
      "DEBUG @ 2020-12-03 21:13:40: Loading genome...\tchr11 \n",
      "DEBUG @ 2020-12-03 21:13:41: Loading genome...\tchr12 \n",
      "DEBUG @ 2020-12-03 21:13:42: Loading genome...\tchr13 \n",
      "DEBUG @ 2020-12-03 21:13:42: Loading genome...\tchr14 \n",
      "DEBUG @ 2020-12-03 21:13:43: Loading genome...\tchr15 \n",
      "DEBUG @ 2020-12-03 21:13:44: Loading genome...\tchr16 \n",
      "DEBUG @ 2020-12-03 21:13:44: Loading genome...\tchr17 \n",
      "DEBUG @ 2020-12-03 21:13:45: Loading genome...\tchr18 \n",
      "DEBUG @ 2020-12-03 21:13:45: Loading genome...\tchr19 \n",
      "DEBUG @ 2020-12-03 21:13:46: Loading genome...\tchr20 \n",
      "DEBUG @ 2020-12-03 21:13:46: Loading genome...\tchr21 \n",
      "DEBUG @ 2020-12-03 21:13:46: Loading genome...\tchr22 \n",
      "DEBUG @ 2020-12-03 21:13:47: Loading genome...\tchrX \n",
      "DEBUG @ 2020-12-03 21:13:48: Loading genome...\tchrY \n",
      "DEBUG @ 2020-12-03 21:13:48: Loading genome...\tchrM \n",
      "INFO  @ 2020-12-03 21:13:48: Loading genome done! \n"
     ]
    }
   ],
   "source": [
    "ref_dict = load_reference_fasta_as_dict(ref_fasta_path=ref_fasta_path)"
   ]
  },
  {
   "cell_type": "code",
   "execution_count": 19,
   "metadata": {},
   "outputs": [
    {
     "data": {
      "text/plain": "[['chr6', '43770819', '43770841', 'VEGFA-Site2-on-target'],\n ['chr1', '93448683', '93448705', 'VEGFA-Site2-pRBS-1'],\n ['chr15', '32993900', '32993922', 'VEGFA-Site2-pRBS-2']]"
     },
     "execution_count": 19,
     "metadata": {},
     "output_type": "execute_result"
    }
   ],
   "source": [
    "bam_file = pysam.AlignmentFile(path_bam, \"rb\")\n",
    "num_extend = 100\n",
    "has_bed_header = True\n",
    "ls_mut_direction = ['CT','GA']\n",
    "\n",
    "with open(bed_file, \"r\") as f:\n",
    "    ls_bed_info = [i.strip().split('\\t') for i in f.readlines()]\n",
    "\n",
    "if has_bed_header:\n",
    "    ls_bed_info = ls_bed_info[1:]\n",
    "ls_bed_info[:3]"
   ]
  },
  {
   "cell_type": "code",
   "execution_count": 20,
   "outputs": [
    {
     "data": {
      "text/plain": "['chr1',\n 'chr2',\n 'chr3',\n 'chr4',\n 'chr5',\n 'chr6',\n 'chr7',\n 'chr8',\n 'chr9',\n 'chr10',\n 'chr11',\n 'chr12',\n 'chr13',\n 'chr14',\n 'chr15',\n 'chr16',\n 'chr17',\n 'chr18',\n 'chr19',\n 'chr20',\n 'chr21',\n 'chr22',\n 'chrX',\n 'chrY',\n 'chrM']"
     },
     "execution_count": 20,
     "metadata": {},
     "output_type": "execute_result"
    }
   ],
   "source": [
    "ls_chr = ['chr%s' % str(i+1) for i in range(22)] + ['chr%s' % i for i in [\"X\",\"Y\",\"M\"]]\n",
    "ls_chr"
   ],
   "metadata": {
    "collapsed": false,
    "pycharm": {
     "name": "#%%\n"
    }
   }
  },
  {
   "cell_type": "code",
   "execution_count": 21,
   "metadata": {},
   "outputs": [],
   "source": [
    "ls_table = []\n",
    "for ls_bed_line in ls_bed_info:\n",
    "    chr_ = ls_bed_line[0]\n",
    "    start =int(ls_bed_line[1]) - num_extend\n",
    "    end = int(ls_bed_line[2]) + num_extend\n",
    "    region_index = ls_bed_line[3].strip()\n",
    "    \n",
    "    \n",
    "    for index, align in enumerate(bam_file.fetch(contig=chr_, start=start, end=end)):\n",
    "#         print(index, '\\n', align, '\\n', align.get_aligned_pairs())\n",
    "        MD_tag_state = align.has_tag(\"MD\")\n",
    "\n",
    "        if MD_tag_state:\n",
    "            mis_align_pair_list = get_align_mismatch_pairs(align)\n",
    "        else:\n",
    "            mis_align_pair_list = get_No_MD_align_mismatch_pairs(align, ref_dict)\n",
    "#         print(mis_align_pair_list)\n",
    "        # 0region_index, 1reads_id, 2align_strand, 3extend_length,4CT_count, 5Ct_max_gap, 6GA_count, 7GA_max_gap\n",
    "        \n",
    "        # 如果这个reads至少存在一个mutation信息\n",
    "        if mis_align_pair_list and align.is_paired and not align.is_unmapped:\n",
    "            # 获取chr\n",
    "            chr_name = ls_chr[align.rname]\n",
    "            # 去除mis align pair list中的固有mutations\n",
    "            check_mis_align_pair_list = []\n",
    "            for ls_mut in mis_align_pair_list:\n",
    "                mut_key = \"%s_%s_%s%s\" % (chr_name, ls_mut[0], ls_mut[2], ls_mut[3])\n",
    "\n",
    "                if not dt_endogenous_mut.__contains__(mut_key):\n",
    "                    check_mis_align_pair_list.append(ls_mut)\n",
    "\n",
    "            mis_align_pair_list = check_mis_align_pair_list\n",
    "\n",
    "            # checked strand:\n",
    "            if align.is_reverse:\n",
    "                align_strand = \"R\"\n",
    "            else:\n",
    "                align_strand = 'F'\n",
    "\n",
    "            aligned_reads_id = align.query_name\n",
    "            extend_length = num_extend\n",
    "\n",
    "            # 如果只存在一个mutation，不做判断，直接存入list\n",
    "            if len(mis_align_pair_list)==1:\n",
    "                ls_line = []\n",
    "                if mis_align_pair_list[0][2]=='C' and mis_align_pair_list[0][3]=='T':\n",
    "                    ls_line = [region_index, aligned_reads_id, align_strand, extend_length, 1, 0, 0, 0]\n",
    "                elif mis_align_pair_list[0][2]=='G' and mis_align_pair_list[0][3]=='A':\n",
    "                    ls_line = [region_index, aligned_reads_id, align_strand, extend_length, 0, 0, 1, 0]\n",
    "\n",
    "            # 如果存在两个或两个以上的mutation        \n",
    "            else:\n",
    "                ls_line1 = []\n",
    "                ls_line2 = []\n",
    "                ls_line = []\n",
    "                # 先把CT的全筛出来\n",
    "                ls_this_reads_info = [site for site in mis_align_pair_list if site[2]=='C' and site[3]=='T']\n",
    "                # 如果筛不到，没有就没有\n",
    "                # 如果筛到至少一个\n",
    "                if ls_this_reads_info:\n",
    "                    # 如果有一个就加到ls_table中\n",
    "                    if len(ls_this_reads_info)==1:\n",
    "                        ls_line = [region_index, aligned_reads_id, align_strand, extend_length, 1, 0, 0, 0]\n",
    "                    # 如果有更多再计算count和gap\n",
    "                    else:# todo \n",
    "                        ls_first = ls_this_reads_info[0]\n",
    "                        ls_last = ls_this_reads_info[-1]\n",
    "#                         print(ls_first[1])# todo!\n",
    "                        ls_line1 = [region_index, aligned_reads_id, align_strand, extend_length, len(ls_this_reads_info),ls_last[0]-ls_first[0],0,0]\n",
    "                # 再把GA的全筛出来\n",
    "                ls_this_reads_info = [site for site in mis_align_pair_list if site[2]=='G' and site[3]=='A']\n",
    "                # 如果筛不到，没有就没有\n",
    "                # 如果筛到至少一个\n",
    "                if ls_this_reads_info:\n",
    "                    # 如果有一个就加到ls_table中\n",
    "                    if len(ls_this_reads_info)==1:\n",
    "                        ls_line = [region_index, aligned_reads_id, align_strand, extend_length, 0, 0, 1, 0]\n",
    "                    # 如果有更多再计算count和gap\n",
    "                    else:# todo \n",
    "                        ls_first = ls_this_reads_info[0]\n",
    "                        ls_last = ls_this_reads_info[-1]\n",
    "#                         print(ls_first[1])# todo!\n",
    "                        ls_line2 = [region_index, aligned_reads_id, align_strand, extend_length,0,0,len(ls_this_reads_info),ls_last[0]-ls_first[0]]\n",
    "                if ls_line1 and ls_line2:\n",
    "                    ls_line = [region_index, aligned_reads_id, align_strand, extend_length,ls_line1[4]+ls_line2[4], ls_line1[5]+ls_line2[5],ls_line1[6]+ls_line2[6], ls_line1[7]+ls_line2[7]]\n",
    "                elif ls_line1:\n",
    "                    ls_line = ls_line1\n",
    "                elif ls_line2:\n",
    "                    ls_line = ls_line2\n",
    "                else:\n",
    "                    pass\n",
    "                if ls_line:\n",
    "                    ls_table.append(ls_line)\n",
    "                    \n",
    "                # 既没有CT也没有GA的直接pass"
   ]
  },
  {
   "cell_type": "code",
   "execution_count": 22,
   "outputs": [
    {
     "data": {
      "text/plain": "                region_index  \\\n0      VEGFA-Site2-on-target   \n1      VEGFA-Site2-on-target   \n2      VEGFA-Site2-on-target   \n3      VEGFA-Site2-on-target   \n4      VEGFA-Site2-on-target   \n...                      ...   \n53211   VEGFA-Site2-pRBS-347   \n53212   VEGFA-Site2-pRBS-347   \n53213   VEGFA-Site2-pRBS-347   \n53214   VEGFA-Site2-pRBS-347   \n53215   VEGFA-Site2-pRBS-347   \n\n                                                reads_id align_orientation  \\\n0                E00454:613:H527LCCX2:6:1122:17756:71946                 F   \n1      E00454:613:H527LCCX2:6:2222:24302:20348_1:N:0:...                 F   \n2      E00454:613:H527LCCX2:6:2106:4137:42306_1:N:0:A...                 F   \n3      E00454:613:H527LCCX2:6:1107:25936:21350_1:N:0:...                 F   \n4      E00454:613:H527LCCX2:6:1106:2879:61608_1:N:0:A...                 F   \n...                                                  ...               ...   \n53211  E00454:613:H527LCCX2:6:1124:23723:22405_1:N:0:...                 R   \n53212  E00490:581:H52CJCCX2:4:2116:16386:66302_1:N:0:...                 R   \n53213  E00490:581:H52CJCCX2:4:1218:22181:49197_1:N:0:...                 R   \n53214  E00490:581:H52CJCCX2:4:2213:14215:55473_1:N:0:...                 R   \n53215  E00490:581:H52CJCCX2:4:2117:25154:40495_1:N:0:...                 R   \n\n       extend_length  count_C2T  max_distance_C2T  count_G2A  max_distance_G2A  \n0                100          1                 0          0                 0  \n1                100          0                 0          1                 0  \n2                100          1                 0          0                 0  \n3                100          0                 0          2                 1  \n4                100          0                 0          3                 4  \n...              ...        ...               ...        ...               ...  \n53211            100          0                 0          2                 7  \n53212            100          2                 4          0                 0  \n53213            100          0                 0          5                 7  \n53214            100          0                 0          2                 2  \n53215            100          2                 7          0                 0  \n\n[53216 rows x 8 columns]",
      "text/html": "<div>\n<style scoped>\n    .dataframe tbody tr th:only-of-type {\n        vertical-align: middle;\n    }\n\n    .dataframe tbody tr th {\n        vertical-align: top;\n    }\n\n    .dataframe thead th {\n        text-align: right;\n    }\n</style>\n<table border=\"1\" class=\"dataframe\">\n  <thead>\n    <tr style=\"text-align: right;\">\n      <th></th>\n      <th>region_index</th>\n      <th>reads_id</th>\n      <th>align_orientation</th>\n      <th>extend_length</th>\n      <th>count_C2T</th>\n      <th>max_distance_C2T</th>\n      <th>count_G2A</th>\n      <th>max_distance_G2A</th>\n    </tr>\n  </thead>\n  <tbody>\n    <tr>\n      <th>0</th>\n      <td>VEGFA-Site2-on-target</td>\n      <td>E00454:613:H527LCCX2:6:1122:17756:71946</td>\n      <td>F</td>\n      <td>100</td>\n      <td>1</td>\n      <td>0</td>\n      <td>0</td>\n      <td>0</td>\n    </tr>\n    <tr>\n      <th>1</th>\n      <td>VEGFA-Site2-on-target</td>\n      <td>E00454:613:H527LCCX2:6:2222:24302:20348_1:N:0:...</td>\n      <td>F</td>\n      <td>100</td>\n      <td>0</td>\n      <td>0</td>\n      <td>1</td>\n      <td>0</td>\n    </tr>\n    <tr>\n      <th>2</th>\n      <td>VEGFA-Site2-on-target</td>\n      <td>E00454:613:H527LCCX2:6:2106:4137:42306_1:N:0:A...</td>\n      <td>F</td>\n      <td>100</td>\n      <td>1</td>\n      <td>0</td>\n      <td>0</td>\n      <td>0</td>\n    </tr>\n    <tr>\n      <th>3</th>\n      <td>VEGFA-Site2-on-target</td>\n      <td>E00454:613:H527LCCX2:6:1107:25936:21350_1:N:0:...</td>\n      <td>F</td>\n      <td>100</td>\n      <td>0</td>\n      <td>0</td>\n      <td>2</td>\n      <td>1</td>\n    </tr>\n    <tr>\n      <th>4</th>\n      <td>VEGFA-Site2-on-target</td>\n      <td>E00454:613:H527LCCX2:6:1106:2879:61608_1:N:0:A...</td>\n      <td>F</td>\n      <td>100</td>\n      <td>0</td>\n      <td>0</td>\n      <td>3</td>\n      <td>4</td>\n    </tr>\n    <tr>\n      <th>...</th>\n      <td>...</td>\n      <td>...</td>\n      <td>...</td>\n      <td>...</td>\n      <td>...</td>\n      <td>...</td>\n      <td>...</td>\n      <td>...</td>\n    </tr>\n    <tr>\n      <th>53211</th>\n      <td>VEGFA-Site2-pRBS-347</td>\n      <td>E00454:613:H527LCCX2:6:1124:23723:22405_1:N:0:...</td>\n      <td>R</td>\n      <td>100</td>\n      <td>0</td>\n      <td>0</td>\n      <td>2</td>\n      <td>7</td>\n    </tr>\n    <tr>\n      <th>53212</th>\n      <td>VEGFA-Site2-pRBS-347</td>\n      <td>E00490:581:H52CJCCX2:4:2116:16386:66302_1:N:0:...</td>\n      <td>R</td>\n      <td>100</td>\n      <td>2</td>\n      <td>4</td>\n      <td>0</td>\n      <td>0</td>\n    </tr>\n    <tr>\n      <th>53213</th>\n      <td>VEGFA-Site2-pRBS-347</td>\n      <td>E00490:581:H52CJCCX2:4:1218:22181:49197_1:N:0:...</td>\n      <td>R</td>\n      <td>100</td>\n      <td>0</td>\n      <td>0</td>\n      <td>5</td>\n      <td>7</td>\n    </tr>\n    <tr>\n      <th>53214</th>\n      <td>VEGFA-Site2-pRBS-347</td>\n      <td>E00490:581:H52CJCCX2:4:2213:14215:55473_1:N:0:...</td>\n      <td>R</td>\n      <td>100</td>\n      <td>0</td>\n      <td>0</td>\n      <td>2</td>\n      <td>2</td>\n    </tr>\n    <tr>\n      <th>53215</th>\n      <td>VEGFA-Site2-pRBS-347</td>\n      <td>E00490:581:H52CJCCX2:4:2117:25154:40495_1:N:0:...</td>\n      <td>R</td>\n      <td>100</td>\n      <td>2</td>\n      <td>7</td>\n      <td>0</td>\n      <td>0</td>\n    </tr>\n  </tbody>\n</table>\n<p>53216 rows × 8 columns</p>\n</div>"
     },
     "execution_count": 22,
     "metadata": {},
     "output_type": "execute_result"
    }
   ],
   "source": [
    "df = pd.DataFrame(ls_table, columns=[\"region_index\", \"reads_id\", \"align_orientation\", \"extend_length\", \"count_C2T\", \"max_distance_C2T\", \"count_G2A\", \"max_distance_G2A\"])\n",
    "df"
   ],
   "metadata": {
    "collapsed": false,
    "pycharm": {
     "name": "#%%\n"
    }
   }
  },
  {
   "cell_type": "code",
   "execution_count": 23,
   "metadata": {},
   "outputs": [],
   "source": [
    "csv_path = path_bam.replace(\"cbe_bam\", \"table\").replace(\"_hg38.MAPQ20.bam\", \"_max_distance_count.csv\")"
   ]
  },
  {
   "cell_type": "code",
   "execution_count": 24,
   "metadata": {},
   "outputs": [],
   "source": [
    "df.to_csv(csv_path, sep=\"\\t\")"
   ]
  },
  {
   "cell_type": "code",
   "execution_count": 25,
   "outputs": [],
   "source": [
    "bam_file.close()\n"
   ],
   "metadata": {
    "collapsed": false,
    "pycharm": {
     "name": "#%%\n"
    }
   }
  },
  {
   "cell_type": "code",
   "execution_count": null,
   "outputs": [],
   "source": [],
   "metadata": {
    "collapsed": false,
    "pycharm": {
     "name": "#%%\n"
    }
   }
  }
 ],
 "metadata": {
  "kernelspec": {
   "display_name": "Python 3",
   "language": "python",
   "name": "python3"
  },
  "language_info": {
   "codemirror_mode": {
    "name": "ipython",
    "version": 3
   },
   "file_extension": ".py",
   "mimetype": "text/x-python",
   "name": "python",
   "nbconvert_exporter": "python",
   "pygments_lexer": "ipython3",
   "version": "3.8.3"
  }
 },
 "nbformat": 4,
 "nbformat_minor": 4
}